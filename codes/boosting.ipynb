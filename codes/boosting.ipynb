{
 "cells": [
  {
   "cell_type": "code",
   "execution_count": 1,
   "metadata": {},
   "outputs": [],
   "source": [
    "import numpy as np\n",
    "import matplotlib.pyplot as plt\n",
    "from collections import Counter\n",
    "from copy import deepcopy\n",
    "from sklearn.datasets import make_blobs\n",
    "import math"
   ]
  },
  {
   "cell_type": "code",
   "execution_count": 2,
   "metadata": {},
   "outputs": [],
   "source": [
    "def create_random_uniform_datapoints(N):\n",
    "    x = np.random.rand(N)\n",
    "    y = np.random.rand(N)\n",
    "    colors = ['r' if x else 'b' for x in np.random.randint(2, size=N)]\n",
    "    coords = [(a,b) for a,b in zip(x.tolist(), y.tolist())]\n",
    "    data = [(coords[i][0], coords[i][1], colors[i]) for i in range(N)]\n",
    "    return x, y, data, colors"
   ]
  },
  {
   "cell_type": "code",
   "execution_count": 3,
   "metadata": {},
   "outputs": [],
   "source": [
    "def create_blob_datapoints(N, std=1, k=2):\n",
    "    coords, labels = make_blobs(n_samples=N, centers=k, cluster_std=std, n_features=2)\n",
    "    x = [it[0] for it in coords.tolist()]\n",
    "    y = [it[1] for it in coords.tolist()]\n",
    "    colors = ['r' if c_ind==0 else 'b' for c_ind in labels]\n",
    "    data = [(coords[i][0], coords[i][1], colors[i]) for i in range(N)]\n",
    "    return x, y, data, colors"
   ]
  },
  {
   "cell_type": "code",
   "execution_count": 4,
   "metadata": {},
   "outputs": [],
   "source": [
    "def compute_entropy(p1, p2):\n",
    "    if p1==p2==0:\n",
    "        return 0 \n",
    "    elif p1==0:\n",
    "        return - p2 * math.log(p2)\n",
    "    elif p2==0:\n",
    "        return - p1 * math.log(p1)\n",
    "    else:\n",
    "        return - p1 * math.log(p1) - p2 * math.log(p2)"
   ]
  },
  {
   "cell_type": "code",
   "execution_count": 5,
   "metadata": {},
   "outputs": [],
   "source": [
    "def find_weighted_weak_learner(points, sample_weights=None):\n",
    "    \"\"\"\n",
    "    Args: \n",
    "    Takes the data and the sample weights and outputs a weak learner. This weak learner looks at all\n",
    "    horizontal and vertical lines and picks a line that maximizes the information gain when splitting\n",
    "    the decision tree. Sample weight is used in deciding the splits, look at:\n",
    "    https://datascience.stackexchange.com/questions/56250/how-does-class-weight-work-in-decision-tree?newreg=f018d01fd6d34ef8a0520158ea661484\n",
    "    \n",
    "    Returns:\n",
    "    A tuple containing the axis, dividing point and the color to the left or above. \n",
    "    \n",
    "    Blue color = 1 and Red color = -1 \n",
    "    \"\"\"\n",
    "    N = len(points)\n",
    "    if not sample_weights:\n",
    "        sample_weights = [1/N for _ in range(N)]\n",
    "    points = [(points[i][0], points[i][1], points[i][2], sample_weights[i]) for i in range(N)]\n",
    "    \n",
    "    blue = Counter([x[2] for x in points])['b'] \n",
    "    red = N - blue  \n",
    "    \n",
    "    current_entropy = compute_entropy(blue/N, red/N) \n",
    "    \n",
    "    data_x_sorted = deepcopy(points)\n",
    "    data_x_sorted.sort(key= lambda x:x[0])\n",
    "\n",
    "    data_y_sorted = deepcopy(points)\n",
    "    data_y_sorted.sort(key= lambda x:x[1])\n",
    "    \n",
    "    xy_candidates = [] \n",
    "    for direction in [data_x_sorted, data_y_sorted]:\n",
    "        l_blue, l_red, r_blue, r_red, l_count, r_count, l_weight, r_weight = 0, 0, blue, red, 0, N, 0, 1\n",
    "        min_entropy = current_entropy \n",
    "        min_index = -1 \n",
    "        right_or_above_color = 'b'   # label 1\n",
    "        for i in range(N-1):\n",
    "            if direction[i][2]=='b':  # label 1 \n",
    "                l_blue  += 1\n",
    "                r_blue  -= 1 \n",
    "            else:\n",
    "                l_red += 1\n",
    "                r_red -= 1 \n",
    "\n",
    "            l_count += 1\n",
    "            r_count -= 1\n",
    "            \n",
    "            l_weight += direction[i][3]\n",
    "            r_weight -= direction[i][3]\n",
    "            \n",
    "            left_entropy = compute_entropy(l_blue/l_count, l_red/l_count)\n",
    "            right_entropy = compute_entropy(r_blue/r_count, r_red/r_count)\n",
    "            \n",
    "            split_entropy = l_weight * left_entropy + r_weight * right_entropy \n",
    "        \n",
    "            if split_entropy <= min_entropy:\n",
    "                min_entropy = split_entropy\n",
    "                min_index = i \n",
    "                if r_red > r_blue:\n",
    "                    right_or_above_color = 'r'  # or -1 label\n",
    "                else:\n",
    "                    right_or_above_color = 'b'  # or 1 label \n",
    "                \n",
    "        xy_candidates.append((min_index, min_entropy, right_or_above_color))\n",
    "        \n",
    "    if xy_candidates[0][1] <= xy_candidates[1][1]:\n",
    "        return 'x', 0.5*(data_x_sorted[xy_candidates[0][0]][0] + data_x_sorted[xy_candidates[0][0] + 1][0]), xy_candidates[0][2]\n",
    "    else:\n",
    "        return 'y', 0.5*(data_y_sorted[xy_candidates[1][0]][1] + data_y_sorted[xy_candidates[1][0] + 1][1]), xy_candidates[1][2]"
   ]
  },
  {
   "cell_type": "code",
   "execution_count": 6,
   "metadata": {},
   "outputs": [],
   "source": [
    "def predict_and_compute_error(points, axis, num, color):\n",
    "    error = 0 \n",
    "    predictions = []\n",
    "    for x_coord, y_coord, target_color in points:\n",
    "        if axis == 'x':\n",
    "            if x_coord > num:\n",
    "                prediction_color = color\n",
    "            else:\n",
    "                prediction_color = (set(['b','r']) - set(color)).pop()\n",
    "        elif axis == 'y':\n",
    "            if y_coord > num:\n",
    "                prediction_color = color\n",
    "            else:\n",
    "                prediction_color = (set(['b','r']) - set(color)).pop()\n",
    "        \n",
    "        if prediction_color != target_color:\n",
    "            error += 1 \n",
    "        predictions.append(prediction_color)\n",
    "    return error/len(points), predictions"
   ]
  },
  {
   "cell_type": "code",
   "execution_count": 7,
   "metadata": {},
   "outputs": [],
   "source": [
    "def find_adaboost_learners(points, T):\n",
    "    \"\"\"\n",
    "    Finds the strong PAC learner through Ada-Boost learner. Takes the data points and use them to find weak \n",
    "    learners in each iteration of the boosting algorithm. T is the total number of boosting iterations. \n",
    "    \n",
    "    Return the complex boosting learner. \n",
    "    \n",
    "    Blue color = 1 and Red color = -1\n",
    "    \"\"\"\n",
    "    N = len(points)\n",
    "    D_vec_t = [1/N for _ in range(N)]\n",
    "    weak_learner_set = []\n",
    "\n",
    "    for _ in range(T): \n",
    "        axis, num, color = find_weighted_weak_learner(points, D_vec_t)\n",
    "        epsilon_t, predicted_colors = predict_and_compute_error(points, axis, num, color)\n",
    "        \n",
    "        #for h in range(N):\n",
    "        #    print('%.2f' % points[h][0], '\\t %.2f' % points[h][1], \"\\t Actual :\", points[h][2],\\\n",
    "        #          \"\\t Predicted :\", predicted_colors[h], \"\\t weight:\", '%.4f' % D_vec_t[h])\n",
    "        #print(\"----------------------------\")\n",
    "        if epsilon_t==0:\n",
    "            weak_learner_set.append((axis, num, color, float(\"inf\")))\n",
    "            print(\"Perfect algorithm!\")\n",
    "            break \n",
    "        alpha_t = 0.5 * math.log((1-epsilon_t)/epsilon_t)\n",
    "        weak_learner_set.append((axis, num, color, alpha_t))\n",
    "        unnormalized_new_D_vec_t = [D_vec_t[i] * math.exp(-alpha_t) if predicted_colors[i] == points[i][2] else\\\n",
    "                                    D_vec_t[i] * math.exp(alpha_t) for i in range(N)]\n",
    "        Z_t = sum(unnormalized_new_D_vec_t)\n",
    "        D_vec_t = [ui/Z_t for ui in unnormalized_new_D_vec_t]\n",
    "        \n",
    "    return weak_learner_set"
   ]
  },
  {
   "cell_type": "code",
   "execution_count": 39,
   "metadata": {},
   "outputs": [],
   "source": [
    "def predict_adaboost_error(points, weak_learners):\n",
    "    error = 0 \n",
    "    predictions = []\n",
    "    for x_coord, y_coord, target_color in points:\n",
    "        all_learners_contributions = 0\n",
    "        for learner in weak_learners:\n",
    "            axis, num, color, weight = learner\n",
    "            if axis == 'x':\n",
    "                if x_coord > num:\n",
    "                    learner_prediction_color = color\n",
    "                else:\n",
    "                    learner_prediction_color = (set(['b','r']) - set(color)).pop()\n",
    "            elif axis == 'y':\n",
    "                if y_coord > num:\n",
    "                    learner_prediction_color = color\n",
    "                else:\n",
    "                    learner_prediction_color = (set(['b','r']) - set(color)).pop()\n",
    "\n",
    "            # Remember that blue color is represented by 1 and red is represented by -1 \n",
    "            learner_contribution = weight if learner_prediction_color == 'b' else -weight\n",
    "            all_learners_contributions += learner_contribution\n",
    "        \n",
    "        if all_learners_contributions >= 0:\n",
    "            prediction_color = 'b'\n",
    "        else:\n",
    "            prediction_color = 'r'\n",
    "        \n",
    "        if prediction_color != target_color:\n",
    "            error += 1\n",
    "        predictions.append(prediction_color)\n",
    "    return error/len(points), predictions"
   ]
  },
  {
   "cell_type": "code",
   "execution_count": 9,
   "metadata": {},
   "outputs": [],
   "source": [
    "def plot_line(axis, num):\n",
    "    if axis == 'x':\n",
    "        plt.axvline(x=num)\n",
    "    elif axis == 'y':\n",
    "        plt.axhline(y=num)"
   ]
  },
  {
   "cell_type": "code",
   "execution_count": 41,
   "metadata": {},
   "outputs": [
    {
     "data": {
      "image/png": "[encoded data removed]",
      "text/plain": [
       "<Figure size 432x288 with 1 Axes>"
      ]
     },
     "metadata": {
      "needs_background": "light"
     },
     "output_type": "display_data"
    },
    {
     "name": "stdout",
     "output_type": "stream",
     "text": [
      "Right or above color: r \t error: 0.481481\n"
     ]
    }
   ],
   "source": [
    "x, y, data1, colors = create_random_uniform_datapoints(27)\n",
    "#x, y, data1, colors = create_blob_datapoints(50, std=2)\n",
    "plt.scatter(x, y, c = colors)\n",
    "axis, num, color = find_weighted_weak_learner(data1)\n",
    "plot_line(axis, num)\n",
    "plt.show()\n",
    "err, _ = predict_and_compute_error(data1, axis, num, color)\n",
    "print(\"Right or above color:\",color, \"\\t error: {:2f}\".format(err))"
   ]
  },
  {
   "cell_type": "code",
   "execution_count": 52,
   "metadata": {},
   "outputs": [
    {
     "name": "stdout",
     "output_type": "stream",
     "text": [
      "Axis: x  Threshold: 0.868006  Right or above color: r  Weight: 0.037054\n",
      "Axis: x  Threshold: 0.868006  Right or above color: r  Weight: 0.037054\n",
      "Axis: y  Threshold: 0.710421  Right or above color: r  Weight: 0.187347\n",
      "Axis: x  Threshold: 0.868006  Right or above color: r  Weight: 0.037054\n",
      "Axis: x  Threshold: 0.868006  Right or above color: r  Weight: 0.037054\n",
      "Axis: x  Threshold: 0.868006  Right or above color: r  Weight: 0.037054\n",
      "Axis: x  Threshold: 0.868006  Right or above color: r  Weight: 0.037054\n",
      "Axis: x  Threshold: 0.157785  Right or above color: r  Weight: 0.037054\n",
      "Axis: x  Threshold: 0.157785  Right or above color: r  Weight: 0.037054\n",
      "Axis: x  Threshold: 0.157785  Right or above color: r  Weight: 0.037054\n"
     ]
    },
    {
     "data": {
      "image/png": "[encoded data removed]",
      "text/plain": [
       "<Figure size 432x288 with 1 Axes>"
      ]
     },
     "metadata": {
      "needs_background": "light"
     },
     "output_type": "display_data"
    }
   ],
   "source": [
    "learners = find_adaboost_learners(data1, 10)\n",
    "plt.scatter(x, y, c = colors)\n",
    "for axis, num, color, weight in learners:\n",
    "    print(\"Axis:\", axis, \" Threshold: {:2f}\".format(num), \" Right or above color:\", \\\n",
    "          color, \" Weight: {:2f}\".format(weight))\n",
    "    plot_line(axis, num)"
   ]
  },
  {
   "cell_type": "code",
   "execution_count": 53,
   "metadata": {},
   "outputs": [
    {
     "name": "stdout",
     "output_type": "stream",
     "text": [
      "Boosting algorithm prediction error: 0.370370\n"
     ]
    }
   ],
   "source": [
    "err, _ = predict_adaboost_error(data1, learners)\n",
    "print(\"Boosting algorithm prediction error: {:2f}\".format(err))"
   ]
  },
  {
   "cell_type": "code",
   "execution_count": null,
   "metadata": {},
   "outputs": [],
   "source": []
  },
  {
   "cell_type": "code",
   "execution_count": null,
   "metadata": {},
   "outputs": [],
   "source": []
  }
 ],
 "metadata": {
  "kernelspec": {
   "display_name": "Python 3",
   "language": "python",
   "name": "python3"
  },
  "language_info": {
   "codemirror_mode": {
    "name": "ipython",
    "version": 3
   },
   "file_extension": ".py",
   "mimetype": "text/x-python",
   "name": "python",
   "nbconvert_exporter": "python",
   "pygments_lexer": "ipython3",
   "version": "3.7.4"
  }
 },
 "nbformat": 4,
 "nbformat_minor": 2
}
