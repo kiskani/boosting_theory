{
 "cells": [
  {
   "cell_type": "code",
   "execution_count": 1,
   "metadata": {},
   "outputs": [],
   "source": [
    "import numpy as np\n",
    "import matplotlib.pyplot as plt\n",
    "from collections import Counter\n",
    "from copy import deepcopy\n",
    "import math"
   ]
  },
  {
   "cell_type": "code",
   "execution_count": 2,
   "metadata": {},
   "outputs": [],
   "source": [
    "def create_datapoints(N):\n",
    "    x = np.random.rand(N)\n",
    "    y = np.random.rand(N)\n",
    "    colors = ['r' if x else 'b' for x in np.random.randint(2, size=N)]\n",
    "    coords = [(a,b) for a,b in zip(x.tolist(), y.tolist())]\n",
    "    data = [(coords[i][0], coords[i][1], colors[i]) for i in range(N)]\n",
    "    return x, y, data, colors"
   ]
  },
  {
   "cell_type": "code",
   "execution_count": 3,
   "metadata": {},
   "outputs": [],
   "source": [
    "def compute_entropy(p1, p2):\n",
    "    if p1==p2==0:\n",
    "        return 0 \n",
    "    elif p1==0:\n",
    "        return - p2 * math.log(p2)\n",
    "    elif p2==0:\n",
    "        return - p1 * math.log(p1)\n",
    "    else:\n",
    "        return - p1 * math.log(p1) - p2 * math.log(p2)"
   ]
  },
  {
   "cell_type": "code",
   "execution_count": 7,
   "metadata": {},
   "outputs": [],
   "source": [
    "def find_weak_learner(points):\n",
    "    \"\"\"\n",
    "    Args: \n",
    "    Takes the data and outputs a weak learner. This weak learner looks at all the horizontal and vertical lines and \n",
    "    picks a line that maximizes the information gain when splitting the decision tree. \n",
    "    \n",
    "    Returns:\n",
    "    A tuple containing the axis, dividing point and the color to the left or above. \n",
    "    \"\"\"\n",
    "    N = len(points)\n",
    "    blue = Counter([x[2] for x in points])['b'] \n",
    "    red = N - blue  \n",
    "    \n",
    "    current_entropy = compute_entropy(blue/N, red/N) \n",
    "    \n",
    "    data_x_sorted = deepcopy(points)\n",
    "    data_x_sorted.sort(key= lambda x:x[0])\n",
    "\n",
    "    data_y_sorted = deepcopy(points)\n",
    "    data_y_sorted.sort(key= lambda x:x[1])\n",
    "    \n",
    "    xy_candidates = [] \n",
    "    for direction in [data_x_sorted, data_y_sorted]:\n",
    "        l_blue, l_red, r_blue, r_red, l_count, r_count = 0, 0, blue, red, 0, N\n",
    "        min_entropy = current_entropy \n",
    "        min_index = -1 \n",
    "        right_or_above_color = 'b'\n",
    "        for i in range(N-1):\n",
    "            if direction[i][2]=='b':\n",
    "                l_blue  += 1\n",
    "                r_blue  -= 1 \n",
    "            else:\n",
    "                l_red += 1\n",
    "                r_red -= 1 \n",
    "\n",
    "            l_count += 1\n",
    "            r_count -= 1\n",
    "\n",
    "            left_entropy = compute_entropy(l_blue/l_count, l_red/l_count)\n",
    "            right_entropy = compute_entropy(r_blue/r_count, r_red/r_count)\n",
    "            split_entropy = (l_count * left_entropy + r_count * right_entropy)/N \n",
    "        \n",
    "            if split_entropy < min_entropy:\n",
    "                min_entropy = split_entropy\n",
    "                min_index = i \n",
    "                if r_red > r_blue:\n",
    "                    right_or_above_color = 'r'\n",
    "                else:\n",
    "                    right_or_above_color = 'b'\n",
    "                \n",
    "        xy_candidates.append((min_index, min_entropy, right_or_above_color))\n",
    "        \n",
    "    if xy_candidates[0][1] < xy_candidates[1][1]:\n",
    "        return 'x', 0.5*(data_x_sorted[xy_candidates[0][0]][0] + data_x_sorted[xy_candidates[0][0] + 1][0]), xy_candidates[0][2]\n",
    "    else:\n",
    "        return 'y', 0.5*(data_y_sorted[xy_candidates[1][0]][1] + data_y_sorted[xy_candidates[1][0] + 1][1]), xy_candidates[1][2]"
   ]
  },
  {
   "cell_type": "code",
   "execution_count": 8,
   "metadata": {},
   "outputs": [],
   "source": [
    "def find_adaboost_learner(points, T):\n",
    "    \"\"\"\n",
    "    Finds the strong PAC learner through Ada-Boost learner. Takes the data points and use them to find weak \n",
    "    learners in each iteration of the boosting algorithm. T is the total number of boosting iterations. \n",
    "    \n",
    "    Return the complex boosting learner. \n",
    "    \"\"\"\n",
    "    N = len(points)\n",
    "    D_vec = [1/N for _ in range(N)]\n",
    "    weak_learners = [] \n",
    "    \n",
    "    for _ in range(T): \n",
    "        "
   ]
  },
  {
   "cell_type": "code",
   "execution_count": 16,
   "metadata": {},
   "outputs": [
    {
     "data": {
      "image/png": "[encoded data removed]",
      "text/plain": [
       "<Figure size 432x288 with 1 Axes>"
      ]
     },
     "metadata": {
      "needs_background": "light"
     },
     "output_type": "display_data"
    },
    {
     "name": "stdout",
     "output_type": "stream",
     "text": [
      "r\n"
     ]
    }
   ],
   "source": [
    "x, y, data1, colors = create_datapoints(7)\n",
    "plt.scatter(x, y,  c=colors)\n",
    "axis, num, color = find_weak_learner(data1)\n",
    "if axis == 'x':\n",
    "    plt.axvline(x=num)\n",
    "elif axis == 'y':\n",
    "    plt.axhline(y=num)\n",
    "plt.show()\n",
    "print(color)"
   ]
  },
  {
   "cell_type": "code",
   "execution_count": null,
   "metadata": {},
   "outputs": [],
   "source": []
  }
 ],
 "metadata": {
  "kernelspec": {
   "display_name": "Python 3",
   "language": "python",
   "name": "python3"
  },
  "language_info": {
   "codemirror_mode": {
    "name": "ipython",
    "version": 3
   },
   "file_extension": ".py",
   "mimetype": "text/x-python",
   "name": "python",
   "nbconvert_exporter": "python",
   "pygments_lexer": "ipython3",
   "version": "3.7.4"
  }
 },
 "nbformat": 4,
 "nbformat_minor": 2
}
